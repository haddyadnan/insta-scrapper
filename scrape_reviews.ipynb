{
 "cells": [
  {
   "cell_type": "code",
   "execution_count": 46,
   "id": "dba01099-6a5a-4dbc-8682-cabc11311a20",
   "metadata": {},
   "outputs": [],
   "source": [
    "from app_store_scraper import AppStore\n",
    "from google_play_scraper import app, Sort, reviews_all, reviews\n",
    "\n",
    "import pandas as pd\n",
    "import numpy as np\n",
    "import datetime"
   ]
  },
  {
   "cell_type": "markdown",
   "id": "0837cd52-7d97-4336-a914-9db45772b1bd",
   "metadata": {},
   "source": [
    "scrape from App store"
   ]
  },
  {
   "cell_type": "code",
   "execution_count": 8,
   "id": "eb208cfd-c703-4b13-9cb0-2a5abd758373",
   "metadata": {},
   "outputs": [
    {
     "name": "stderr",
     "output_type": "stream",
     "text": [
      "2023-03-29 14:57:18,154 [INFO] Base - Searching for app id\n",
      "2023-03-29 14:57:20,702 [INFO] Base - Initialised: AppStore('ng', 'instagram', 389801252)\n",
      "2023-03-29 14:57:20,703 [INFO] Base - Ready to fetch reviews from: https://apps.apple.com/ng/app/instagram/id389801252\n",
      "2023-03-29 14:57:25,893 [INFO] Base - [id:389801252] Fetched 9 reviews (9 fetched in total)\n",
      "2023-03-29 14:57:31,610 [INFO] Base - [id:389801252] Fetched 21 reviews (21 fetched in total)\n",
      "2023-03-29 14:57:37,431 [INFO] Base - [id:389801252] Fetched 32 reviews (32 fetched in total)\n",
      "2023-03-29 14:57:43,617 [INFO] Base - [id:389801252] Fetched 46 reviews (46 fetched in total)\n",
      "2023-03-29 14:57:50,207 [INFO] Base - [id:389801252] Fetched 54 reviews (54 fetched in total)\n",
      "2023-03-29 14:57:56,040 [INFO] Base - [id:389801252] Fetched 62 reviews (62 fetched in total)\n",
      "2023-03-29 14:58:02,010 [INFO] Base - [id:389801252] Fetched 68 reviews (68 fetched in total)\n",
      "2023-03-29 14:58:07,591 [INFO] Base - [id:389801252] Fetched 75 reviews (75 fetched in total)\n",
      "2023-03-29 14:58:13,396 [INFO] Base - [id:389801252] Fetched 81 reviews (81 fetched in total)\n",
      "2023-03-29 14:58:19,240 [INFO] Base - [id:389801252] Fetched 90 reviews (90 fetched in total)\n",
      "2023-03-29 14:58:25,179 [INFO] Base - [id:389801252] Fetched 102 reviews (102 fetched in total)\n",
      "2023-03-29 14:58:31,118 [INFO] Base - [id:389801252] Fetched 111 reviews (111 fetched in total)\n",
      "2023-03-29 14:58:37,337 [INFO] Base - [id:389801252] Fetched 119 reviews (119 fetched in total)\n",
      "2023-03-29 14:58:43,847 [INFO] Base - [id:389801252] Fetched 124 reviews (124 fetched in total)\n",
      "2023-03-29 14:58:49,805 [INFO] Base - [id:389801252] Fetched 130 reviews (130 fetched in total)\n",
      "2023-03-29 14:58:56,012 [INFO] Base - [id:389801252] Fetched 138 reviews (138 fetched in total)\n",
      "2023-03-29 14:59:02,118 [INFO] Base - [id:389801252] Fetched 155 reviews (155 fetched in total)\n",
      "2023-03-29 14:59:08,386 [INFO] Base - [id:389801252] Fetched 164 reviews (164 fetched in total)\n",
      "2023-03-29 14:59:14,288 [INFO] Base - [id:389801252] Fetched 176 reviews (176 fetched in total)\n",
      "2023-03-29 14:59:20,685 [INFO] Base - [id:389801252] Fetched 186 reviews (186 fetched in total)\n",
      "2023-03-29 14:59:26,716 [INFO] Base - [id:389801252] Fetched 196 reviews (196 fetched in total)\n",
      "2023-03-29 14:59:32,951 [INFO] Base - [id:389801252] Fetched 206 reviews (206 fetched in total)\n",
      "2023-03-29 14:59:39,522 [INFO] Base - [id:389801252] Fetched 217 reviews (217 fetched in total)\n",
      "2023-03-29 14:59:45,615 [INFO] Base - [id:389801252] Fetched 228 reviews (228 fetched in total)\n",
      "2023-03-29 14:59:51,981 [INFO] Base - [id:389801252] Fetched 240 reviews (240 fetched in total)\n",
      "2023-03-29 14:59:57,739 [INFO] Base - [id:389801252] Fetched 250 reviews (250 fetched in total)\n",
      "2023-03-29 15:00:03,484 [INFO] Base - [id:389801252] Fetched 264 reviews (264 fetched in total)\n",
      "2023-03-29 15:00:09,452 [INFO] Base - [id:389801252] Fetched 274 reviews (274 fetched in total)\n",
      "2023-03-29 15:00:15,669 [INFO] Base - [id:389801252] Fetched 284 reviews (284 fetched in total)\n",
      "2023-03-29 15:00:22,053 [INFO] Base - [id:389801252] Fetched 292 reviews (292 fetched in total)\n",
      "2023-03-29 15:00:28,727 [INFO] Base - [id:389801252] Fetched 303 reviews (303 fetched in total)\n",
      "2023-03-29 15:00:35,036 [INFO] Base - [id:389801252] Fetched 310 reviews (310 fetched in total)\n",
      "2023-03-29 15:00:40,957 [INFO] Base - [id:389801252] Fetched 314 reviews (314 fetched in total)\n",
      "2023-03-29 15:00:47,002 [INFO] Base - [id:389801252] Fetched 327 reviews (327 fetched in total)\n",
      "2023-03-29 15:00:53,335 [INFO] Base - [id:389801252] Fetched 333 reviews (333 fetched in total)\n",
      "2023-03-29 15:00:59,322 [INFO] Base - [id:389801252] Fetched 345 reviews (345 fetched in total)\n",
      "2023-03-29 15:01:05,611 [INFO] Base - [id:389801252] Fetched 353 reviews (353 fetched in total)\n",
      "2023-03-29 15:01:11,514 [INFO] Base - [id:389801252] Fetched 364 reviews (364 fetched in total)\n",
      "2023-03-29 15:01:18,219 [INFO] Base - [id:389801252] Fetched 375 reviews (375 fetched in total)\n",
      "2023-03-29 15:01:24,893 [INFO] Base - [id:389801252] Fetched 383 reviews (383 fetched in total)\n",
      "2023-03-29 15:01:31,324 [INFO] Base - [id:389801252] Fetched 390 reviews (390 fetched in total)\n",
      "2023-03-29 15:01:37,244 [INFO] Base - [id:389801252] Fetched 398 reviews (398 fetched in total)\n",
      "2023-03-29 15:01:43,522 [INFO] Base - [id:389801252] Fetched 405 reviews (405 fetched in total)\n",
      "2023-03-29 15:01:49,751 [INFO] Base - [id:389801252] Fetched 416 reviews (416 fetched in total)\n",
      "2023-03-29 15:01:55,804 [INFO] Base - [id:389801252] Fetched 421 reviews (421 fetched in total)\n",
      "2023-03-29 15:02:01,552 [INFO] Base - [id:389801252] Fetched 432 reviews (432 fetched in total)\n",
      "2023-03-29 15:02:07,417 [INFO] Base - [id:389801252] Fetched 445 reviews (445 fetched in total)\n",
      "2023-03-29 15:02:13,161 [INFO] Base - [id:389801252] Fetched 451 reviews (451 fetched in total)\n",
      "2023-03-29 15:02:19,074 [INFO] Base - [id:389801252] Fetched 461 reviews (461 fetched in total)\n",
      "2023-03-29 15:02:25,214 [INFO] Base - [id:389801252] Fetched 466 reviews (466 fetched in total)\n",
      "2023-03-29 15:02:31,556 [INFO] Base - [id:389801252] Fetched 470 reviews (470 fetched in total)\n",
      "2023-03-29 15:02:37,758 [INFO] Base - [id:389801252] Fetched 470 reviews (470 fetched in total)\n",
      "2023-03-29 15:02:43,639 [INFO] Base - [id:389801252] Fetched 470 reviews (470 fetched in total)\n",
      "2023-03-29 15:02:49,885 [INFO] Base - [id:389801252] Fetched 470 reviews (470 fetched in total)\n",
      "2023-03-29 15:02:55,939 [INFO] Base - [id:389801252] Fetched 470 reviews (470 fetched in total)\n",
      "2023-03-29 15:03:01,636 [INFO] Base - [id:389801252] Fetched 470 reviews (470 fetched in total)\n",
      "2023-03-29 15:03:07,514 [INFO] Base - [id:389801252] Fetched 470 reviews (470 fetched in total)\n",
      "2023-03-29 15:03:13,158 [INFO] Base - [id:389801252] Fetched 494 reviews (494 fetched in total)\n",
      "2023-03-29 15:03:19,549 [INFO] Base - [id:389801252] Fetched 494 reviews (494 fetched in total)\n",
      "2023-03-29 15:03:25,855 [INFO] Base - [id:389801252] Fetched 510 reviews (510 fetched in total)\n",
      "2023-03-29 15:03:31,905 [INFO] Base - [id:389801252] Fetched 510 reviews (510 fetched in total)\n",
      "2023-03-29 15:03:37,807 [INFO] Base - [id:389801252] Fetched 510 reviews (510 fetched in total)\n",
      "2023-03-29 15:03:44,158 [INFO] Base - [id:389801252] Fetched 510 reviews (510 fetched in total)\n",
      "2023-03-29 15:03:49,965 [INFO] Base - [id:389801252] Fetched 511 reviews (511 fetched in total)\n"
     ]
    }
   ],
   "source": [
    "app_inst = AppStore(country=\"ng\", app_name=\"instagram\")\n",
    "app_inst.review(after=datetime.datetime(2022, 12,31)) #scrape all after Dec 31 2022"
   ]
  },
  {
   "cell_type": "code",
   "execution_count": 9,
   "id": "9fee1da4-b0aa-4205-9e6f-bfc1d8ee2335",
   "metadata": {},
   "outputs": [],
   "source": [
    "#save to df\n",
    "temp_df = pd.DataFrame(app_inst.reviews); temp_df.head()\n",
    "temp_df['type'] = 'app_store'\n",
    "temp_df['country'] = 'ng'"
   ]
  },
  {
   "cell_type": "markdown",
   "id": "259d3934-9084-4cea-ad72-137f6985084b",
   "metadata": {},
   "source": [
    "issues scraping from US"
   ]
  },
  {
   "cell_type": "code",
   "execution_count": 14,
   "id": "9ed6f6fb-d014-47ef-9e1b-d7d9d69c2362",
   "metadata": {},
   "outputs": [
    {
     "name": "stderr",
     "output_type": "stream",
     "text": [
      "2023-03-29 17:36:55,222 [INFO] Base - Searching for app id\n",
      "2023-03-29 17:36:57,464 [INFO] Base - Initialised: AppStore('us', 'instagram', 389801252)\n",
      "2023-03-29 17:36:57,465 [INFO] Base - Ready to fetch reviews from: https://apps.apple.com/us/app/instagram/id389801252\n",
      "2023-03-29 17:37:08,364 [INFO] Base - [id:389801252] Fetched 2 reviews (2 fetched in total)\n",
      "2023-03-29 17:37:30,063 [INFO] Base - [id:389801252] Fetched 4 reviews (4 fetched in total)\n",
      "2023-03-29 17:37:52,236 [INFO] Base - [id:389801252] Fetched 5 reviews (5 fetched in total)\n",
      "2023-03-29 17:38:24,683 [ERROR] Base - Something went wrong: HTTPSConnectionPool(host='amp-api.apps.apple.com', port=443): Max retries exceeded with url: /v1/catalog/us/apps/389801252/reviews?l=en-GB&offset=120&limit=20&platform=web&additionalPlatforms=appletv%2Cipad%2Ciphone%2Cmac (Caused by ResponseError('too many 404 error responses'))\n",
      "2023-03-29 17:38:24,687 [INFO] Base - [id:389801252] Fetched 6 reviews (6 fetched in total)\n"
     ]
    }
   ],
   "source": [
    "us_inst = AppStore(country=\"us\", app_name=\"instagram\")\n",
    "us_inst.review(after=datetime.datetime(2022, 12,31), sleep=10) #scrape all after Dec 31 2022"
   ]
  },
  {
   "cell_type": "code",
   "execution_count": 53,
   "id": "763483e7-ec50-4555-b5ce-4a4313c7c0e1",
   "metadata": {},
   "outputs": [],
   "source": [
    "#save to df\n",
    "us_df = pd.DataFrame(us_inst.reviews); us_df.head()\n",
    "us_df['type'] = 'app_store'\n",
    "us_df['country'] = 'us'"
   ]
  },
  {
   "cell_type": "code",
   "execution_count": 54,
   "id": "3d77021e-ae3b-47ed-8a43-2dd83d89a1f6",
   "metadata": {},
   "outputs": [],
   "source": [
    "appdf = pd.concat([temp_df, us_df])"
   ]
  },
  {
   "cell_type": "markdown",
   "id": "eb3272d2-23ff-4905-9cdf-18a9b7804374",
   "metadata": {},
   "source": [
    "scrape from Google play"
   ]
  },
  {
   "cell_type": "code",
   "execution_count": 65,
   "id": "a080fd75-bc77-4274-985a-67027dfc1cf1",
   "metadata": {},
   "outputs": [],
   "source": [
    "ggplay_reviews = reviews(\n",
    "    'com.instagram.android',\n",
    "    lang = 'en',\n",
    "    country='us', # Not getting other countries\n",
    "    sort=Sort.NEWEST,\n",
    "    count = 12000,\n",
    ")"
   ]
  },
  {
   "cell_type": "code",
   "execution_count": 71,
   "id": "eb304ba4-8bdb-4614-a6fe-5bd89bb5bbb3",
   "metadata": {},
   "outputs": [],
   "source": [
    "ggplay_reviews2 = reviews(\n",
    "    'com.instagram.android',\n",
    "    lang = 'en',\n",
    "    country='us', # Not getting other countries\n",
    "    sort=Sort.NEWEST,\n",
    "    count = 12000,\n",
    "    continuation_token=ggplay_reviews[1]\n",
    ")"
   ]
  },
  {
   "cell_type": "code",
   "execution_count": 75,
   "id": "861b9718-42c4-46c3-b4fc-a506fd3575ab",
   "metadata": {},
   "outputs": [],
   "source": [
    "ggplay_reviews3 = reviews(\n",
    "    'com.instagram.android',\n",
    "    lang = 'en',\n",
    "    country='us', # Not getting other countries\n",
    "    sort=Sort.NEWEST,\n",
    "    count = 12000,\n",
    "    continuation_token=ggplay_reviews2[1]\n",
    ")"
   ]
  },
  {
   "cell_type": "code",
   "execution_count": 79,
   "id": "220d2aa7-402c-405e-82a1-90c9c963380e",
   "metadata": {},
   "outputs": [],
   "source": [
    "ggdf = pd.DataFrame(np.array(ggplay_reviews[0]),columns=['review'])\n",
    "ggdf = pd.DataFrame(ggdf.review.tolist())\n",
    "ggdf['type'] = 'play_store'"
   ]
  },
  {
   "cell_type": "code",
   "execution_count": 82,
   "id": "3fdf266d-ba14-4c0f-a679-b03b934aa4bd",
   "metadata": {},
   "outputs": [],
   "source": [
    "ggdf3 = pd.DataFrame(np.array(ggplay_reviews3[0]),columns=['review'])\n",
    "ggdf3 = pd.DataFrame(ggdf3.review.tolist())\n",
    "ggdf3['type'] = 'play_store'"
   ]
  },
  {
   "cell_type": "code",
   "execution_count": 83,
   "id": "66afc1ee-286a-4983-91cf-88ea8573730b",
   "metadata": {},
   "outputs": [],
   "source": [
    "ggdf2 = pd.DataFrame(np.array(ggplay_reviews2[0]),columns=['review'])\n",
    "ggdf2 = pd.DataFrame(ggdf2.review.tolist())\n",
    "ggdf2['type'] = 'play_store'"
   ]
  },
  {
   "cell_type": "code",
   "execution_count": 84,
   "id": "5fd54cc8-102b-4307-bb79-d59aa48d9e7c",
   "metadata": {},
   "outputs": [],
   "source": [
    "ggdf = ggdf.rename(columns={'at':'date', 'content':'review', 'score':'rating'})\n",
    "ggdf2 = ggdf.rename(columns={'at':'date', 'content':'review', 'score':'rating'})\n",
    "ggdf3 = ggdf.rename(columns={'at':'date', 'content':'review', 'score':'rating'})"
   ]
  },
  {
   "cell_type": "code",
   "execution_count": 86,
   "id": "636951ba-eb0a-4985-bf83-c730deb2b886",
   "metadata": {},
   "outputs": [],
   "source": [
    "gg_play=pd.concat([ggdf, ggdf2, ggdf3])"
   ]
  },
  {
   "cell_type": "code",
   "execution_count": 87,
   "id": "c90a9aa7-7cda-4789-b009-d66498afeeb7",
   "metadata": {},
   "outputs": [],
   "source": [
    "#filterout date outside range\n",
    "gg_play = gg_play[gg_play.date > datetime.datetime(2022,12,31)]"
   ]
  },
  {
   "cell_type": "markdown",
   "id": "d6d222f8-0e5f-46fc-8f73-ad4de59989a3",
   "metadata": {},
   "source": [
    "concatenate and save to disk"
   ]
  },
  {
   "cell_type": "code",
   "execution_count": 88,
   "id": "216cef84-bf13-453a-9dd5-11b05c9b8de3",
   "metadata": {},
   "outputs": [],
   "source": [
    "df = pd.concat([gg_play, appdf]).drop(['reviewId','userImage','isEdited'], axis=1)"
   ]
  },
  {
   "cell_type": "code",
   "execution_count": 89,
   "id": "0057067f-7451-4119-b34c-a10409b5c59a",
   "metadata": {},
   "outputs": [
    {
     "data": {
      "text/plain": [
       "(36517, 11)"
      ]
     },
     "execution_count": 89,
     "metadata": {},
     "output_type": "execute_result"
    }
   ],
   "source": [
    "df.shape"
   ]
  },
  {
   "cell_type": "code",
   "execution_count": 91,
   "id": "8ddcfde3-b346-4836-b4b6-3d28ef235819",
   "metadata": {},
   "outputs": [],
   "source": [
    "df.to_csv(\"insta_reviews_df.csv\", index=False)"
   ]
  },
  {
   "cell_type": "markdown",
   "id": "604f1b32-9cf8-49a8-9f9e-137f2a390259",
   "metadata": {},
   "source": [
    "# NB\n",
    ">> it seems gg_play_scraper broke and hence cannot filter by country so it scrapes globally i.e from all countries. due to this some non english reviews might be included in the reviews too"
   ]
  },
  {
   "cell_type": "code",
   "execution_count": null,
   "id": "3625961d-edc9-4ae4-b906-2a0825948b41",
   "metadata": {},
   "outputs": [],
   "source": []
  }
 ],
 "metadata": {
  "kernelspec": {
   "display_name": "Python 3 (ipykernel)",
   "language": "python",
   "name": "python3"
  },
  "language_info": {
   "codemirror_mode": {
    "name": "ipython",
    "version": 3
   },
   "file_extension": ".py",
   "mimetype": "text/x-python",
   "name": "python",
   "nbconvert_exporter": "python",
   "pygments_lexer": "ipython3",
   "version": "3.9.7"
  },
  "widgets": {
   "application/vnd.jupyter.widget-state+json": {
    "state": {},
    "version_major": 2,
    "version_minor": 0
   }
  }
 },
 "nbformat": 4,
 "nbformat_minor": 5
}
